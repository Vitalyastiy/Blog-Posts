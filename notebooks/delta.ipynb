{
 "cells": [
  {
   "cell_type": "markdown",
   "id": "9a370c1f",
   "metadata": {},
   "source": [
    "# Experiments with Ratio Outcomes"
   ]
  },
  {
   "cell_type": "markdown",
   "id": "4b457ab5",
   "metadata": {},
   "source": [
    "*A short introduction to the delta method*."
   ]
  },
  {
   "cell_type": "markdown",
   "id": "37787b5b",
   "metadata": {},
   "source": [
    "Some of the most common outcome metrics or **key performance indicators (KPI)** in the industry are **ratios**: click-through rates (clicks over views), returns on investment (revenue over cost), relative improvements (new value over old value), just to name few. If you want to investigate the causal effect of a treatment of interest (new product, new feature, new interface, ...) on these outcomes, the gold standard are randomized control trials, a.k.a. **AB tests**. Randomly assigning the treatment to a subset of the population (users, patients, customers, ...) we ensure that, on average, the only difference in outcomes can be attributed to the treatment. However, when the outcome is a ratio of two metrics, AB tests present some additional problems.\n",
    "\n",
    "There are two main problems with estimating ratios, both stemming from the fact that we are not separately analyzing two causal quantities, but jointly. The first problem is that the estimator is biased. Even though, thanks to randomization, we can have unbiased estimates of the effect on page views and clicks, the estimate of the their ratio is biased. Second, computing a conference interval is not trivial.\n",
    "\n",
    "In this post we are going to see how to solve both problems. First, we are going to apply a bias correction to the estimate. Second, we are going to explore a very powerful tool for inference with complex metrics: the **delta method**. While the algebra can be intense, the result is simple: we can compute the confidence interval for our ratio estimator using a simple linear regression. "
   ]
  },
  {
   "cell_type": "markdown",
   "id": "517c4a6f",
   "metadata": {},
   "source": [
    "## Clicks and Ads"
   ]
  },
  {
   "cell_type": "markdown",
   "id": "f93eb751",
   "metadata": {},
   "source": [
    "To better illustrate the concepts, we are going to use a toy example throughout the article. Support we were a **food delivery** company that is testing a new UI for their landing page. The object of interest is the **incremental click-through ratio**: does the number of clicks per view increase?\n",
    "\n",
    "$$\n",
    "\\text{incremental ctr} = \\frac{\\text{incremental number of clicks}}{\\text{incremental number of views}}\n",
    "$$\n",
    "\n",
    "Differently from usual AB tests or randomized experiments, we are not interested in a single metric, but in the **ratio** of two metrics, page views and orders. We will still use a **randomized control trial** or **AB test** to estimate the incremental CTR: randomly assign users to either a treatment control condition. The treated users will see the new landing page, while the control users will see the old one. Randomization ensures that we can estimate the impact of the new landing page on either clicks or views by comparing users in the treatment and control group: the difference in their average is an unbiased estimator of the average treatment effect. However, things are more complicated for their ratio.\n",
    "\n",
    "I import the data generating process `dgp_loyalty()` from [`src.dgp`](https://github.com/matteocourthoud/Blog-Posts/blob/main/notebooks/src/dgp.py). I also import some plotting functions and libraries from [`src.utils`](https://github.com/matteocourthoud/Blog-Posts/blob/main/notebooks/src/utils.py).  To include not only code but also data and tables, I use [Deepnote](https://deepnote.com), a Jupyter-like web-based collaborative notebook environment. "
   ]
  },
  {
   "cell_type": "code",
   "execution_count": 1,
   "id": "38a4fd42",
   "metadata": {
    "ExecuteTime": {
     "end_time": "2022-12-22T17:27:34.595603Z",
     "start_time": "2022-12-22T17:27:33.518658Z"
    }
   },
   "outputs": [],
   "source": [
    "%matplotlib inline\n",
    "%config InlineBackend.figure_format = 'retina'\n",
    "\n",
    "from src.utils import *"
   ]
  },
  {
   "cell_type": "code",
   "execution_count": 2,
   "id": "c9ed4f93",
   "metadata": {
    "ExecuteTime": {
     "end_time": "2022-12-22T17:27:34.601463Z",
     "start_time": "2022-12-22T17:27:34.596606Z"
    }
   },
   "outputs": [],
   "source": [
    "from dataclasses import dataclass\n",
    "from joblib import Parallel, delayed\n",
    "\n",
    "class DGP:\n",
    "    \n",
    "    def __init__(self, n: int = 100, p: float = 0.5):\n",
    "        self.n = n\n",
    "        self.p = p\n",
    "        self.df = self.generate_baseline_data() \n",
    "    \n",
    "    def generate_baseline_data(self, seed: int = 0) -> pd.DataFrame:\n",
    "        return pd.DataFrame()\n",
    "    \n",
    "    def add_assignment(self, df: pd.DataFrame, seed: int = 0) -> pd.DataFrame:\n",
    "        np.random.seed(seed)\n",
    "        df['treatment'] = np.random.binomial(1, self.p, self.n)\n",
    "        return df\n",
    "    \n",
    "    def add_treatment(self, df: pd.DataFrame) -> pd.DataFrame:\n",
    "        return pd.DataFrame()\n",
    "    \n",
    "    def generate_data(self, seed_data: int = 0, seed_assignment: int = 0) -> pd.DataFrame:\n",
    "        df = self.df.copy() if seed_data==-1 else self.generate_baseline_data(seed_data)\n",
    "        df = self.add_assignment(df, seed_assignment)\n",
    "        df = self.add_treatment(df)\n",
    "        return df\n",
    "    \n",
    "    def bootstrap_assignment(self, f, K):\n",
    "        results = Parallel(n_jobs=8)(delayed(f)(self.generate_data(seed_assignment=i)) for i in range(K))\n",
    "        return results\n",
    "    \n",
    "    def bootstrap_data(self, f, K):\n",
    "        results = Parallel(n_jobs=8)(delayed(f)(self.generate_data(seed_data=i, seed_assignment=i)) for i in range(K))\n",
    "        return results"
   ]
  },
  {
   "cell_type": "code",
   "execution_count": 30,
   "id": "aa9c9b33",
   "metadata": {
    "ExecuteTime": {
     "end_time": "2022-12-22T17:34:38.322151Z",
     "start_time": "2022-12-22T17:34:38.315799Z"
    }
   },
   "outputs": [],
   "source": [
    "class dgp_clicks(DGP):\n",
    "    \"\"\"Data Generating Process: clicks and views.\"\"\"\n",
    "    \n",
    "    def generate_baseline_data(self, seed: int = 0):\n",
    "        np.random.seed(seed)\n",
    "        u = np.random.uniform(0, 3, self.n)\n",
    "        views = 1 + np.random.exponential(u + 5)\n",
    "        clicks = np.random.exponential(u / 2)\n",
    "        df = pd.DataFrame({'views': views.copy(), 'clicks': clicks.copy()})\n",
    "        return df\n",
    "    \n",
    "    def add_treatment(self, df):\n",
    "        df['views'] = (df['views'] + 1*df['treatment'])//1\n",
    "        df['clicks'] = (df['clicks'] + 0.1*df['treatment'])//1\n",
    "        return df"
   ]
  },
  {
   "cell_type": "code",
   "execution_count": 31,
   "id": "02fec150",
   "metadata": {
    "ExecuteTime": {
     "end_time": "2022-12-22T17:34:38.455362Z",
     "start_time": "2022-12-22T17:34:38.445380Z"
    }
   },
   "outputs": [
    {
     "data": {
      "text/html": [
       "<div>\n",
       "<style scoped>\n",
       "    .dataframe tbody tr th:only-of-type {\n",
       "        vertical-align: middle;\n",
       "    }\n",
       "\n",
       "    .dataframe tbody tr th {\n",
       "        vertical-align: top;\n",
       "    }\n",
       "\n",
       "    .dataframe thead th {\n",
       "        text-align: right;\n",
       "    }\n",
       "</style>\n",
       "<table border=\"1\" class=\"dataframe\">\n",
       "  <thead>\n",
       "    <tr style=\"text-align: right;\">\n",
       "      <th></th>\n",
       "      <th>views</th>\n",
       "      <th>clicks</th>\n",
       "      <th>treatment</th>\n",
       "    </tr>\n",
       "  </thead>\n",
       "  <tbody>\n",
       "    <tr>\n",
       "      <th>0</th>\n",
       "      <td>11.0</td>\n",
       "      <td>0.0</td>\n",
       "      <td>1</td>\n",
       "    </tr>\n",
       "    <tr>\n",
       "      <th>1</th>\n",
       "      <td>3.0</td>\n",
       "      <td>0.0</td>\n",
       "      <td>1</td>\n",
       "    </tr>\n",
       "    <tr>\n",
       "      <th>2</th>\n",
       "      <td>4.0</td>\n",
       "      <td>2.0</td>\n",
       "      <td>0</td>\n",
       "    </tr>\n",
       "    <tr>\n",
       "      <th>3</th>\n",
       "      <td>2.0</td>\n",
       "      <td>0.0</td>\n",
       "      <td>1</td>\n",
       "    </tr>\n",
       "    <tr>\n",
       "      <th>4</th>\n",
       "      <td>2.0</td>\n",
       "      <td>1.0</td>\n",
       "      <td>1</td>\n",
       "    </tr>\n",
       "  </tbody>\n",
       "</table>\n",
       "</div>"
      ],
      "text/plain": [
       "   views  clicks  treatment\n",
       "0   11.0     0.0          1\n",
       "1    3.0     0.0          1\n",
       "2    4.0     2.0          0\n",
       "3    2.0     0.0          1\n",
       "4    2.0     1.0          1"
      ]
     },
     "execution_count": 31,
     "metadata": {},
     "output_type": "execute_result"
    }
   ],
   "source": [
    "dgp = dgp_clicks(n=10_000)\n",
    "df = dgp.generate_data(seed_assignment=3)\n",
    "df.head()"
   ]
  },
  {
   "cell_type": "markdown",
   "id": "b8755e71",
   "metadata": {},
   "source": [
    "The data contains information on the number of page `views` and `clicks` for a set of $10.000$ users over a period of a month. We also have information on the `treatment`: the new landing page.  As it often happens with business metrics, both distributions of views and clicks are very **skewed**."
   ]
  },
  {
   "cell_type": "code",
   "execution_count": 32,
   "id": "24fef8e9",
   "metadata": {
    "ExecuteTime": {
     "end_time": "2022-12-22T17:34:39.033145Z",
     "start_time": "2022-12-22T17:34:38.814161Z"
    }
   },
   "outputs": [
    {
     "data": {
      "image/png": "[encoded data removed]",
      "text/plain": [
       "<Figure size 1080x360 with 2 Axes>"
      ]
     },
     "metadata": {
      "image/png": {
       "height": 363,
       "width": 907
      }
     },
     "output_type": "display_data"
    }
   ],
   "source": [
    "fix, (ax1, ax2) = plt.subplots(1, 2, figsize=(15, 5))\n",
    "sns.histplot(df.views, ax=ax1, color='C0', bins=30).set(title='Distribution of Views')\n",
    "sns.histplot(df.clicks, ax=ax2, color='C1', binwidth=.3).set(title='Distribution of Clicks');"
   ]
  },
  {
   "cell_type": "markdown",
   "id": "bde0034b",
   "metadata": {},
   "source": [
    "We can compute the difference-in-means estimate by regressing the outcome on the treatment indicator."
   ]
  },
  {
   "cell_type": "code",
   "execution_count": 33,
   "id": "5dfab567",
   "metadata": {
    "ExecuteTime": {
     "end_time": "2022-12-22T17:34:39.701177Z",
     "start_time": "2022-12-22T17:34:39.678788Z"
    }
   },
   "outputs": [
    {
     "data": {
      "text/html": [
       "<table class=\"simpletable\">\n",
       "<tr>\n",
       "      <td></td>         <th>coef</th>     <th>std err</th>      <th>t</th>      <th>P>|t|</th>  <th>[0.025</th>    <th>0.975]</th>  \n",
       "</tr>\n",
       "<tr>\n",
       "  <th>Intercept</th> <td>    7.0833</td> <td>    0.093</td> <td>   76.533</td> <td> 0.000</td> <td>    6.902</td> <td>    7.265</td>\n",
       "</tr>\n",
       "<tr>\n",
       "  <th>treatment</th> <td>    0.7408</td> <td>    0.132</td> <td>    5.624</td> <td> 0.000</td> <td>    0.483</td> <td>    0.999</td>\n",
       "</tr>\n",
       "</table>"
      ],
      "text/plain": [
       "<class 'statsmodels.iolib.table.SimpleTable'>"
      ]
     },
     "execution_count": 33,
     "metadata": {},
     "output_type": "execute_result"
    }
   ],
   "source": [
    "smf.ols('views ~ treatment', data=df).fit().summary().tables[1]"
   ]
  },
  {
   "cell_type": "markdown",
   "id": "a57c79d1",
   "metadata": {},
   "source": [
    "The number of views has increased by ???. What about clicks?"
   ]
  },
  {
   "cell_type": "code",
   "execution_count": 34,
   "id": "6996255a",
   "metadata": {
    "ExecuteTime": {
     "end_time": "2022-12-22T17:34:41.780639Z",
     "start_time": "2022-12-22T17:34:41.760074Z"
    }
   },
   "outputs": [
    {
     "data": {
      "text/html": [
       "<table class=\"simpletable\">\n",
       "<tr>\n",
       "      <td></td>         <th>coef</th>     <th>std err</th>      <th>t</th>      <th>P>|t|</th>  <th>[0.025</th>    <th>0.975]</th>  \n",
       "</tr>\n",
       "<tr>\n",
       "  <th>Intercept</th> <td>    0.3998</td> <td>    0.013</td> <td>   30.843</td> <td> 0.000</td> <td>    0.374</td> <td>    0.425</td>\n",
       "</tr>\n",
       "<tr>\n",
       "  <th>treatment</th> <td>    0.0519</td> <td>    0.018</td> <td>    2.815</td> <td> 0.005</td> <td>    0.016</td> <td>    0.088</td>\n",
       "</tr>\n",
       "</table>"
      ],
      "text/plain": [
       "<class 'statsmodels.iolib.table.SimpleTable'>"
      ]
     },
     "execution_count": 34,
     "metadata": {},
     "output_type": "execute_result"
    }
   ],
   "source": [
    "smf.ols('clicks ~ treatment', data=df).fit().summary().tables[1]"
   ]
  },
  {
   "cell_type": "markdown",
   "id": "9f6f32a1",
   "metadata": {
    "ExecuteTime": {
     "end_time": "2022-12-20T14:49:56.459875Z",
     "start_time": "2022-12-20T14:49:56.454404Z"
    }
   },
   "source": [
    "Also the number of clicks has increased, by ???. What about their ratio?\n",
    "\n",
    "We can estimate the incremental click-through rate as the ratio of the two previous estimates: the difference between the average clicks in the treatment minus control group, over the difference between the average views in the treatment minus control group.\n",
    "\n",
    "$$\n",
    "\\overline{\\text{ctr}} = \\frac{\\Delta C}{\\Delta V}\n",
    "$$\n",
    "\n",
    ", where $\\Delta$ indicates the treatment-control average difference."
   ]
  },
  {
   "cell_type": "code",
   "execution_count": 35,
   "id": "2083a597",
   "metadata": {
    "ExecuteTime": {
     "end_time": "2022-12-22T17:34:42.671218Z",
     "start_time": "2022-12-22T17:34:42.667037Z"
    }
   },
   "outputs": [],
   "source": [
    "def estimate_ctr(df):\n",
    "    clicks = df.loc[df.treatment==1, \"clicks\"].mean() - df.loc[df.treatment==0, \"clicks\"].mean()\n",
    "    views = df.loc[df.treatment==1, \"views\"].mean() - df.loc[df.treatment==0, \"views\"].mean()\n",
    "    return clicks / views"
   ]
  },
  {
   "cell_type": "code",
   "execution_count": 36,
   "id": "d52bbbbb",
   "metadata": {
    "ExecuteTime": {
     "end_time": "2022-12-22T17:34:43.165231Z",
     "start_time": "2022-12-22T17:34:43.155132Z"
    }
   },
   "outputs": [
    {
     "data": {
      "text/plain": [
       "0.07009432424234391"
      ]
     },
     "execution_count": 36,
     "metadata": {},
     "output_type": "execute_result"
    }
   ],
   "source": [
    "estimate_ctr(df)"
   ]
  },
  {
   "cell_type": "markdown",
   "id": "474f74f1",
   "metadata": {},
   "source": [
    "The estimate is $0.07$: for each additional page view, we observe 7% of clicks. How much should we trust this number? Is it significantly different form zero, or it is just driven by noise?\n",
    "\n",
    "To answer this question, we would like to compute a [**confidence interval**](https://en.wikipedia.org/wiki/Confidence_interval). How do we compute a a confidence interval for a ratio metric? The first step is to compute the standard deviation of the estimator. \n",
    "\n",
    "One method that is always available is the [**bootstrap**](https://en.wikipedia.org/wiki/Bootstrapping_(statistics)): resample the data with replacement multiple and times and use the distribution of the estimates over samples to compute the standard deviation of the estimator.\n",
    "\n",
    "Let's try it in our case. I compute the standard deviation over $10.000$ bootstrapped samples, using the function `pd.DataFrame().sample()` to sample with replacement."
   ]
  },
  {
   "cell_type": "code",
   "execution_count": 37,
   "id": "ade21065",
   "metadata": {
    "ExecuteTime": {
     "end_time": "2022-12-22T17:34:54.739360Z",
     "start_time": "2022-12-22T17:34:44.729292Z"
    }
   },
   "outputs": [
    {
     "data": {
      "text/plain": [
       "0.029349926403892786"
      ]
     },
     "execution_count": 37,
     "metadata": {},
     "output_type": "execute_result"
    }
   ],
   "source": [
    "np.std([estimate_ctr(df.sample(frac=1, replace=True, random_state=i)) for i in range(10_000)])"
   ]
  },
  {
   "cell_type": "markdown",
   "id": "bb7608af",
   "metadata": {},
   "source": [
    "The bootstrap estimate of the standard deviation is equal to $0.0293$. How good is it?\n",
    "\n",
    "Since we fully control the data generating process, we can simulate the \"true\" distribution of the estimator. We do that for $10.000$ simulations and we compute the resulting standard deviation of the estimator."
   ]
  },
  {
   "cell_type": "code",
   "execution_count": 38,
   "id": "c3fcb370",
   "metadata": {
    "ExecuteTime": {
     "end_time": "2022-12-22T17:35:10.588703Z",
     "start_time": "2022-12-22T17:34:54.796687Z"
    }
   },
   "outputs": [
    {
     "data": {
      "text/plain": [
       "0.01966553444052361"
      ]
     },
     "execution_count": 38,
     "metadata": {},
     "output_type": "execute_result"
    }
   ],
   "source": [
    "np.std(dgp.bootstrap_assignment(estimate_ctr, 10_000))"
   ]
  },
  {
   "cell_type": "markdown",
   "id": "8d67cb43",
   "metadata": {},
   "source": [
    "The \"true\" variance of the estimator seems to be lower, around $0.0197$. The issue might be related to the fact that the bootstrap is particularly volatile with skewed distributions. One solution is the [**bayesian boostrap**](https://medium.com/towards-data-science/the-bayesian-bootstrap-6ca4a1d45148) that I have covered in a separate post.\n",
    "\n",
    "We are now going to explore another *extremely* powerful alternative, the [**delta method**](https://en.wikipedia.org/wiki/Delta_method). The delta method generally allows us to do inference on functions of random variable, therefore it's applications are broader than ratios. However, I don't think there is an easy way to approach the delta method, so the next section is going to be algebra-intense. If you want, you can skip it and go straight to the last section."
   ]
  },
  {
   "cell_type": "markdown",
   "id": "e6694d09",
   "metadata": {},
   "source": [
    "## The Delta Method"
   ]
  },
  {
   "cell_type": "markdown",
   "id": "fb892d41",
   "metadata": {},
   "source": [
    "What is the **Delta Method**? In short, it is an incredibly powerful **asymptotic inference** method for functions of random variables, that exploits Taylor expansions. In short, the Delta Method requires four ingredients\n",
    "\n",
    "- One or more [random variables](https://en.wikipedia.org/wiki/Random_variable)\n",
    "- A function\n",
    "- [The Central Limit Theorem](https://en.wikipedia.org/wiki/Central_limit_theorem)\n",
    "- [Taylor expansions](https://en.wikipedia.org/wiki/Taylor_series)\n",
    "\n",
    "I will assume some basic knowledge of all four concepts. Suppose we had a set of realizations $X_1$, ..., $X_n$ of a random variable that satisfy the requirements for the Central Limit Theorem (CLT): independence, identically distributed with mena $\\mu$ and finite variance $\\sigma$. Under these conditions, the CLT tells us that the distribution of the sample average $\\bar X$ converges in distribution to a normal distribution, or more precisely\n",
    "\n",
    "$$\n",
    "\\sqrt{n} \\ \\frac{ \\bar X - \\mu}{\\sigma} \\ \\overset{D}{\\to} \\ N(0, 1)\n",
    "$$\n",
    "\n",
    ", where $\\mu$ is the average of $X$ and $\\sigma$ is its standard deviation. What does the equation mean? It reads \"the normalized sample average, scaled by a factor $\\sqrt{n}$, converges in distribution to a standard normal distribution, i.e. it is approximately Gaussian for a sufficiently large sample.\n",
    "\n",
    "Now, suppose we were interested in a **function** of the sample average $f(\\bar X)$ instead of the sample average $\\bar X$. Note that this is different from the average of the function $\\overline{f(X)}$. The Delta Method tells us what the function of the sample average $f(\\bar X)$ converges in distribution to. \n",
    "\n",
    "$$\n",
    "\\sqrt{n} \\ \\frac{ \\bar X - f(\\mu)}{\\sigma} \\ \\overset{D}{\\to} \\ N \\big(0, f'(\\mu)^2 \\big)\n",
    "$$\n",
    "\n",
    ", where $f'(\\mu)^2$ is the derivative of the function $f$, evaluated at $\\mu$.\n",
    "\n",
    "The result directly follows from the Taylor approximation of $f(\\bar X)$\n",
    "\n",
    "$$\n",
    "f(\\bar X) = f(\\mu) + f'(\\mu) (\\bar X - \\mu) + O \\big\\lbrace (\\bar X - \\mu)^2 \\big\\rbrace\n",
    "$$\n",
    "\n",
    "Importantly, asymptotically, the last term disappears and the linear approximation holds exactly!\n",
    "\n",
    "How is this connected to the ratio estimator? We need a bit more math and to switch from a single dimension to two dimensions in order to understand that. In our case, we have a bivariate function that input two random variables, $\\Delta C$ and $\\delta V$ and returns their ratio. In the case of a multivariate function $f$, the asymptotic variance of the estimator is given by\n",
    "\n",
    "$$\n",
    "\\text{AVar} f(\\bar X) = \\nabla f(\\bar X)' \\Sigma \\nabla f(\\bar X)\n",
    "$$\n",
    "\n",
    "where, $\\nabla$ indicates the [gradient](https://en.wikipedia.org/wiki/Gradient) of the function, i.e. the vector of directional derivatives, and $\\Sigma$ is the variance-covariance matrix of $X$. In our case, they correspond to\n",
    "\n",
    "$$\n",
    "\\begin{align*}\n",
    "\\nabla f(\\bar X) = \n",
    "\\begin{bmatrix} \n",
    "f_{\\Delta V} (\\bar X) \\\\ f_{\\Delta C} (\\bar X)\n",
    "\\end{bmatrix} \n",
    "= \n",
    "\\begin{bmatrix} \n",
    "\\frac{1}{\\mathbb E [\\Delta V]} \\\\ - \\frac{\\mathbb E [\\Delta C]}{\\mathbb E [\\Delta V]^2}\n",
    "\\end{bmatrix}\n",
    "\\end{align*}\n",
    "$$\n",
    "\n",
    "and\n",
    "\n",
    "$$\n",
    "\\begin{align*}\n",
    "\\Sigma = \n",
    "\\begin{bmatrix}\n",
    "\\text{Var} (\\Delta C) & \\text{Cov} (\\Delta C, \\Delta V) \\\\\n",
    "\\text{Cov} (\\Delta C, \\Delta V) & \\text{Var} (\\Delta V) \\\\\n",
    "\\end{bmatrix}\n",
    "\\end{align*}\n",
    "$$\n",
    "\n",
    "With a little matrix algebra, we get the formula of the asymptotic variance of the ratio estimator.\n",
    "\n",
    "$$\n",
    "\\begin{align*}\n",
    "\\text{AVar} \\left( \\frac{\\Delta C}{\\Delta V} \\right) &= \\frac{1}{\\mathbb E[\\Delta V]^2} \\text{Var}(\\Delta C) - 2 \\frac{\\mathbb E[\\Delta C]}{\\mathbb E[\\Delta V]^3} \\text{Cov}(\\Delta V, \\Delta C) + \\frac{\\mathbb E[\\Delta C]^2}{\\mathbb E[\\Delta V]^4} \\text{Var}(\\Delta V)\n",
    "\\end{align*}\n",
    "$$\n",
    "\n",
    "Importantly, we can rewrite the variance noting that the estimator is given by $\\hat \\lambda = \\frac{\\mathbb E[\\Delta C]}{\\mathbb E[\\Delta V]}$\n",
    "\n",
    "$$\n",
    "\\begin{align*}\n",
    "\\text{Var} \\left( \\frac{\\Delta C}{\\Delta V} \\right) = \\frac{1}{\\mathbb E[\\Delta V]^2} \\text{Var} \\Big( \\Delta C - \\hat \\lambda \\Delta V \\Big) = \\frac{1}{\\mathbb E[\\Delta V]^2} \\text{Var} \\Big( \\Delta \\big( C - \\hat \\lambda V \\big) \\Big)\n",
    "\\end{align*}\n",
    "$$\n",
    "\n",
    "The last expression is very interesting because it suggests that we can estimate the standard deviation of our estimator by **linear regression**."
   ]
  },
  {
   "cell_type": "markdown",
   "id": "d95cef7c",
   "metadata": {},
   "source": [
    "## Inference with Linear Regression"
   ]
  },
  {
   "cell_type": "markdown",
   "id": "4db89cf3",
   "metadata": {},
   "source": [
    "Did you skip the previous section? No problem! (and good choice)\n",
    "\n",
    "We just realized that we can estimate the variance of our estimator as\n",
    "\n",
    "$$\n",
    "\\begin{align*}\n",
    "\\text{Var} \\left( \\frac{\\Delta C}{\\Delta V} \\right) = \\frac{1}{\\mathbb E[\\Delta V]^2} \\text{Var} \\big( \\Delta \\tilde C \\big)\n",
    "\\end{align*}\n",
    "$$\n",
    "\n",
    ", where $\\tilde C = C - \\hat \\lambda V$. This expression might seem very obscure to you, but it's extremely practical. Let's go through it step by step\n",
    "\n",
    "1. The term $\\mathbb E[\\Delta V]$ is just the difference in average clicks between treatment and control group"
   ]
  },
  {
   "cell_type": "code",
   "execution_count": 39,
   "id": "f9876bea",
   "metadata": {
    "ExecuteTime": {
     "end_time": "2022-12-22T17:35:10.650344Z",
     "start_time": "2022-12-22T17:35:10.647958Z"
    }
   },
   "outputs": [],
   "source": [
    "e_delta_v = df.views[df.treatment==1].mean() - df.views[df.treatment==0].mean()"
   ]
  },
  {
   "cell_type": "markdown",
   "id": "545b3895",
   "metadata": {},
   "source": [
    "2. The variable $\\tilde C$ is easier to compute: we just need to subtract from the clicks $C$ the number of views $V$, times the estimated click-through rate $\\hat \\lambda$."
   ]
  },
  {
   "cell_type": "code",
   "execution_count": 40,
   "id": "7d9617fe",
   "metadata": {
    "ExecuteTime": {
     "end_time": "2022-12-22T17:35:10.753461Z",
     "start_time": "2022-12-22T17:35:10.750604Z"
    }
   },
   "outputs": [],
   "source": [
    "df['clicks_tilde'] = df['clicks'] - estimate_ctr(df) * df['views'] "
   ]
  },
  {
   "cell_type": "markdown",
   "id": "3dc3718a",
   "metadata": {},
   "source": [
    "3. The variance of the treatment-control difference $\\Delta \\tilde C$ can be directly computed by linear regression, as we always do in randomized controlled trials."
   ]
  },
  {
   "cell_type": "code",
   "execution_count": 41,
   "id": "9f3615b8",
   "metadata": {
    "ExecuteTime": {
     "end_time": "2022-12-22T17:35:10.822790Z",
     "start_time": "2022-12-22T17:35:10.817671Z"
    }
   },
   "outputs": [],
   "source": [
    "sd_err = smf.ols('clicks_tilde ~ treatment', df).fit().bse[1]"
   ]
  },
  {
   "cell_type": "markdown",
   "id": "96c99175",
   "metadata": {},
   "source": [
    "We now have all the ingredients to compute the standard deviation of the estimator.."
   ]
  },
  {
   "cell_type": "code",
   "execution_count": 42,
   "id": "b6a2d1d7",
   "metadata": {
    "ExecuteTime": {
     "end_time": "2022-12-22T17:35:10.920724Z",
     "start_time": "2022-12-22T17:35:10.918633Z"
    }
   },
   "outputs": [
    {
     "data": {
      "text/plain": [
       "0.027268564428518813"
      ]
     },
     "execution_count": 42,
     "metadata": {},
     "output_type": "execute_result"
    }
   ],
   "source": [
    "sd_err / np.abs(e_delta_v)"
   ]
  },
  {
   "cell_type": "markdown",
   "id": "34167382",
   "metadata": {},
   "source": [
    "We have estimated the variance of the ratio estimator with a simple linear regression! The estimated value $0.0273$ is quite close to the one we estimated with bootstrap. \n",
    "\n",
    "How accurate is it on average? Since we control the data generating process, we can compute the average estimated variance over $10.000$ simulations."
   ]
  },
  {
   "cell_type": "code",
   "execution_count": 43,
   "id": "9803fd39",
   "metadata": {
    "ExecuteTime": {
     "end_time": "2022-12-22T17:35:11.024214Z",
     "start_time": "2022-12-22T17:35:11.012777Z"
    }
   },
   "outputs": [
    {
     "ename": "NameError",
     "evalue": "name 'compute_variance' is not defined",
     "output_type": "error",
     "traceback": [
      "\u001b[0;31m---------------------------------------------------------------------------\u001b[0m",
      "\u001b[0;31mNameError\u001b[0m                                 Traceback (most recent call last)",
      "Input \u001b[0;32mIn [43]\u001b[0m, in \u001b[0;36m<module>\u001b[0;34m\u001b[0m\n\u001b[0;32m----> 1\u001b[0m np\u001b[38;5;241m.\u001b[39mmean(dgp\u001b[38;5;241m.\u001b[39mbootstrap_assignment(\u001b[43mcompute_variance\u001b[49m, \u001b[38;5;241m10_000\u001b[39m))\n",
      "\u001b[0;31mNameError\u001b[0m: name 'compute_variance' is not defined"
     ]
    }
   ],
   "source": [
    "np.mean(dgp.bootstrap_assignment(compute_variance, 10_000))"
   ]
  },
  {
   "cell_type": "markdown",
   "id": "2e732218",
   "metadata": {},
   "source": [
    "The value is $0.0196$, basically identical to the previously computed one."
   ]
  },
  {
   "cell_type": "markdown",
   "id": "39f056c2",
   "metadata": {},
   "source": [
    "## Conclusion"
   ]
  },
  {
   "cell_type": "markdown",
   "id": "8d82d7c4",
   "metadata": {},
   "source": []
  },
  {
   "cell_type": "markdown",
   "id": "f0c8f0f6",
   "metadata": {},
   "source": [
    "### References"
   ]
  },
  {
   "cell_type": "markdown",
   "id": "458631c8",
   "metadata": {},
   "source": [
    "[1] A. Deng, U. Knoblich, J. Lu, [Applying the Delta Method in Metric Analytics: A Practical Guide with Novel Ideas](https://arxiv.org/pdf/1803.06336.pdf) (2018).  \n",
    "\n",
    "[2] [Consistent Transformation of Ratio Metrics for Efficient Online Controlled Experiments](https://dl.acm.org/doi/abs/10.1145/3159652.3159699) (2018). *ACM*."
   ]
  },
  {
   "cell_type": "markdown",
   "id": "5c9a3e05",
   "metadata": {},
   "source": [
    "### Related Articles"
   ]
  },
  {
   "cell_type": "markdown",
   "id": "b8b800d9",
   "metadata": {},
   "source": [
    "- [The Bayesian Bootstrap](https://medium.com/towards-data-science/the-bayesian-bootstrap-6ca4a1d45148)"
   ]
  },
  {
   "cell_type": "markdown",
   "id": "2b1f07d1",
   "metadata": {},
   "source": [
    "### Code"
   ]
  },
  {
   "cell_type": "markdown",
   "id": "29dc2b92",
   "metadata": {},
   "source": [
    "You can find the original Jupyter Notebook here:\n",
    "\n",
    "https://github.com/matteocourthoud/Blog-Posts/blob/main/notebooks/delta.ipynb"
   ]
  }
 ],
 "metadata": {
  "@webio": {
   "lastCommId": null,
   "lastKernelId": null
  },
  "kernelspec": {
   "display_name": "Python (conda)",
   "language": "python",
   "name": "base"
  },
  "language_info": {
   "codemirror_mode": {
    "name": "ipython",
    "version": 3
   },
   "file_extension": ".py",
   "mimetype": "text/x-python",
   "name": "python",
   "nbconvert_exporter": "python",
   "pygments_lexer": "ipython3",
   "version": "3.9.7"
  },
  "toc": {
   "base_numbering": 1,
   "nav_menu": {},
   "number_sections": false,
   "sideBar": true,
   "skip_h1_title": true,
   "title_cell": "Table of Contents",
   "title_sidebar": "Contents",
   "toc_cell": false,
   "toc_position": {
    "height": "calc(100% - 180px)",
    "left": "10px",
    "top": "150px",
    "width": "255px"
   },
   "toc_section_display": true,
   "toc_window_display": true
  },
  "varInspector": {
   "cols": {
    "lenName": 16,
    "lenType": 16,
    "lenVar": 40
   },
   "kernels_config": {
    "python": {
     "delete_cmd_postfix": "",
     "delete_cmd_prefix": "del ",
     "library": "var_list.py",
     "varRefreshCmd": "print(var_dic_list())"
    },
    "r": {
     "delete_cmd_postfix": ") ",
     "delete_cmd_prefix": "rm(",
     "library": "var_list.r",
     "varRefreshCmd": "cat(var_dic_list()) "
    }
   },
   "types_to_exclude": [
    "module",
    "function",
    "builtin_function_or_method",
    "instance",
    "_Feature"
   ],
   "window_display": false
  }
 },
 "nbformat": 4,
 "nbformat_minor": 5
}
