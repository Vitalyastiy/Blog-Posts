{
 "cells": [
  {
   "cell_type": "markdown",
   "id": "9a370c1f",
   "metadata": {},
   "source": [
    "# Experiments with Ratio Outcomes"
   ]
  },
  {
   "cell_type": "markdown",
   "id": "4b457ab5",
   "metadata": {},
   "source": [
    "*How to estimate and do inference in click-through rates, returns of investment and more.*"
   ]
  },
  {
   "cell_type": "markdown",
   "id": "37787b5b",
   "metadata": {},
   "source": [
    "Some of the most common outcome metrics or **key performance indicators (KPI)** in the industry are **ratios**: click-through rates (clicks over views), returns on investment (revenue over cost), relative improvements (new outcome over old outcome), just to name few. If you want to investigate the causal effect of a treatment of interest (new product, new feature, new interface, ...) on these outcomes, the gold standard are randomized control trials, a.k.a. **AB tests**. Randomly assigning the treatment to a subset of the population (users, patients, customers, ...) we ensure that, on average, the only difference in outcomes can be attributed to the treatment. However, when the outcome is a ratio of two metrics, AB tests present some additional problems.\n",
    "\n",
    "The first problem is that the estimator is biased. Even though one can estimate numerator and denominator without bias, the estimate of the ration will be biased. Second, computing a conference interval is not trivial and often people resort to bootstrapping, which is computationally intensive. However, a simple solutions exists.\n",
    "\n",
    "In this post we are going to see how to solve both problems. First, we are going to apply a bias correction to the estimate. Second, we are going to explore a very powerful tool for inference with complex metrics: the **delta method**. While the algebra can be intense, the result is simple: we can compute the confidence interval for our ratio estimator using a simple linear regression. "
   ]
  },
  {
   "cell_type": "markdown",
   "id": "517c4a6f",
   "metadata": {},
   "source": [
    "## Clicks and Ads"
   ]
  },
  {
   "cell_type": "markdown",
   "id": "f93eb751",
   "metadata": {},
   "source": [
    "To better illustrate the concepts, we are going to use a toy example throughout the article. Support we were a **food delivery** company that is testing a new UI for their landing page. The object of interest is the **incremental click-through ratio (CTR)**: does the number of clicks per view increase?\n",
    "\n",
    "$$\n",
    "\\text{ctr} = \\frac{\\text{incremental number of clicks}}{\\text{incremental number of views}} = \\frac{\\mathbb E [\\Delta C]}{\\mathbb E [\\Delta V]}\n",
    "$$\n",
    "\n",
    "Differently from usual AB tests or randomized experiments, we are not interested in a single difference, but in the **ratio** of two differences: the effect on page views and the effect on clicks. We will still use a **randomized control trial** or **AB test** to estimate the incremental CTR: randomly assign users to either a treatment control condition. The treated users will see the new landing page, while the control users will see the old one. Randomization ensures that we can estimate the impact of the new landing page on either clicks or views by comparing users in the treatment and control group: the difference in their average is an unbiased estimator of the average treatment effect. However, things are more complicated for their ratio.\n",
    "\n",
    "I import the data generating process `dgp_loyalty()` from [`src.dgp`](https://github.com/matteocourthoud/Blog-Posts/blob/main/notebooks/src/dgp.py). I also import some plotting functions and libraries from [`src.utils`](https://github.com/matteocourthoud/Blog-Posts/blob/main/notebooks/src/utils.py).  To include not only code but also data and tables, I use [Deepnote](https://deepnote.com), a Jupyter-like web-based collaborative notebook environment. "
   ]
  },
  {
   "cell_type": "code",
   "execution_count": 1,
   "id": "38a4fd42",
   "metadata": {
    "ExecuteTime": {
     "end_time": "2022-12-23T14:21:41.860498Z",
     "start_time": "2022-12-23T14:21:40.869940Z"
    }
   },
   "outputs": [],
   "source": [
    "%matplotlib inline\n",
    "%config InlineBackend.figure_format = 'retina'\n",
    "\n",
    "from src.utils import *\n",
    "from src.dgp import dgp_clicks"
   ]
  },
  {
   "cell_type": "code",
   "execution_count": 2,
   "id": "b0b98fc1",
   "metadata": {
    "ExecuteTime": {
     "end_time": "2022-12-23T14:21:41.869443Z",
     "start_time": "2022-12-23T14:21:41.861573Z"
    }
   },
   "outputs": [
    {
     "data": {
      "text/html": [
       "<div>\n",
       "<style scoped>\n",
       "    .dataframe tbody tr th:only-of-type {\n",
       "        vertical-align: middle;\n",
       "    }\n",
       "\n",
       "    .dataframe tbody tr th {\n",
       "        vertical-align: top;\n",
       "    }\n",
       "\n",
       "    .dataframe thead th {\n",
       "        text-align: right;\n",
       "    }\n",
       "</style>\n",
       "<table border=\"1\" class=\"dataframe\">\n",
       "  <thead>\n",
       "    <tr style=\"text-align: right;\">\n",
       "      <th></th>\n",
       "      <th>new_ui</th>\n",
       "      <th>views</th>\n",
       "      <th>clicks</th>\n",
       "    </tr>\n",
       "  </thead>\n",
       "  <tbody>\n",
       "    <tr>\n",
       "      <th>0</th>\n",
       "      <td>1</td>\n",
       "      <td>11.0</td>\n",
       "      <td>0.0</td>\n",
       "    </tr>\n",
       "    <tr>\n",
       "      <th>1</th>\n",
       "      <td>1</td>\n",
       "      <td>3.0</td>\n",
       "      <td>0.0</td>\n",
       "    </tr>\n",
       "    <tr>\n",
       "      <th>2</th>\n",
       "      <td>1</td>\n",
       "      <td>5.0</td>\n",
       "      <td>2.0</td>\n",
       "    </tr>\n",
       "    <tr>\n",
       "      <th>3</th>\n",
       "      <td>1</td>\n",
       "      <td>2.0</td>\n",
       "      <td>0.0</td>\n",
       "    </tr>\n",
       "    <tr>\n",
       "      <th>4</th>\n",
       "      <td>0</td>\n",
       "      <td>1.0</td>\n",
       "      <td>1.0</td>\n",
       "    </tr>\n",
       "  </tbody>\n",
       "</table>\n",
       "</div>"
      ],
      "text/plain": [
       "   new_ui  views  clicks\n",
       "0       1   11.0     0.0\n",
       "1       1    3.0     0.0\n",
       "2       1    5.0     2.0\n",
       "3       1    2.0     0.0\n",
       "4       0    1.0     1.0"
      ]
     },
     "execution_count": 2,
     "metadata": {},
     "output_type": "execute_result"
    }
   ],
   "source": [
    "dgp = dgp_clicks(outcome_vars=['views', 'clicks'],\n",
    "                 assignment_var='new_ui',\n",
    "                 n=10_000,\n",
    "                 p=0.5)\n",
    "df = dgp.generate_data()\n",
    "df.head()"
   ]
  },
  {
   "cell_type": "markdown",
   "id": "b8755e71",
   "metadata": {},
   "source": [
    "The data contains information on the number of page `views` and `clicks` for a set of $10.000$ users over a period of a month. We also have information on the `treatment`: the new landing page.  As it often happens with business metrics, both distributions of views and clicks are very **skewed**."
   ]
  },
  {
   "cell_type": "code",
   "execution_count": 3,
   "id": "24fef8e9",
   "metadata": {
    "ExecuteTime": {
     "end_time": "2022-12-23T14:21:42.093614Z",
     "start_time": "2022-12-23T14:21:41.870224Z"
    }
   },
   "outputs": [
    {
     "data": {
      "image/png": "[encoded data removed]",
      "text/plain": [
       "<Figure size 1080x360 with 2 Axes>"
      ]
     },
     "metadata": {
      "image/png": {
       "height": 363,
       "width": 907
      }
     },
     "output_type": "display_data"
    }
   ],
   "source": [
    "fix, (ax1, ax2) = plt.subplots(1, 2, figsize=(15, 5))\n",
    "sns.histplot(df.views, ax=ax1, color='C0', bins=30).set(title='Distribution of Views')\n",
    "sns.histplot(df.clicks, ax=ax2, color='C1', binwidth=.3).set(title='Distribution of Clicks');"
   ]
  },
  {
   "cell_type": "markdown",
   "id": "bde0034b",
   "metadata": {},
   "source": [
    "We can compute the difference-in-means estimate by regressing the outcome on the treatment indicator."
   ]
  },
  {
   "cell_type": "code",
   "execution_count": 4,
   "id": "5dfab567",
   "metadata": {
    "ExecuteTime": {
     "end_time": "2022-12-23T14:21:42.102451Z",
     "start_time": "2022-12-23T14:21:42.094939Z"
    }
   },
   "outputs": [
    {
     "data": {
      "text/html": [
       "<table class=\"simpletable\">\n",
       "<tr>\n",
       "      <td></td>         <th>coef</th>     <th>std err</th>      <th>t</th>      <th>P>|t|</th>  <th>[0.025</th>    <th>0.975]</th>  \n",
       "</tr>\n",
       "<tr>\n",
       "  <th>Intercept</th> <td>    6.2164</td> <td>    0.092</td> <td>   67.597</td> <td> 0.000</td> <td>    6.036</td> <td>    6.397</td>\n",
       "</tr>\n",
       "<tr>\n",
       "  <th>new_ui</th>    <td>    2.4971</td> <td>    0.131</td> <td>   19.077</td> <td> 0.000</td> <td>    2.241</td> <td>    2.754</td>\n",
       "</tr>\n",
       "</table>"
      ],
      "text/plain": [
       "<class 'statsmodels.iolib.table.SimpleTable'>"
      ]
     },
     "execution_count": 4,
     "metadata": {},
     "output_type": "execute_result"
    }
   ],
   "source": [
    "smf.ols('views ~ new_ui', data=df).fit().summary().tables[1]"
   ]
  },
  {
   "cell_type": "markdown",
   "id": "a57c79d1",
   "metadata": {},
   "source": [
    "The number of views has increased by ???. What about clicks?"
   ]
  },
  {
   "cell_type": "code",
   "execution_count": 5,
   "id": "6996255a",
   "metadata": {
    "ExecuteTime": {
     "end_time": "2022-12-23T14:21:42.110714Z",
     "start_time": "2022-12-23T14:21:42.103206Z"
    }
   },
   "outputs": [
    {
     "data": {
      "text/html": [
       "<table class=\"simpletable\">\n",
       "<tr>\n",
       "      <td></td>         <th>coef</th>     <th>std err</th>      <th>t</th>      <th>P>|t|</th>  <th>[0.025</th>    <th>0.975]</th>  \n",
       "</tr>\n",
       "<tr>\n",
       "  <th>Intercept</th> <td>    0.1074</td> <td>    0.012</td> <td>    8.761</td> <td> 0.000</td> <td>    0.083</td> <td>    0.131</td>\n",
       "</tr>\n",
       "<tr>\n",
       "  <th>new_ui</th>    <td>    0.6734</td> <td>    0.017</td> <td>   38.582</td> <td> 0.000</td> <td>    0.639</td> <td>    0.708</td>\n",
       "</tr>\n",
       "</table>"
      ],
      "text/plain": [
       "<class 'statsmodels.iolib.table.SimpleTable'>"
      ]
     },
     "execution_count": 5,
     "metadata": {},
     "output_type": "execute_result"
    }
   ],
   "source": [
    "smf.ols('clicks ~ new_ui', data=df).fit().summary().tables[1]"
   ]
  },
  {
   "cell_type": "markdown",
   "id": "9f6f32a1",
   "metadata": {
    "ExecuteTime": {
     "end_time": "2022-12-20T14:49:56.459875Z",
     "start_time": "2022-12-20T14:49:56.454404Z"
    }
   },
   "source": [
    "Also the number of clicks has increased, by ???. What about their ratio?\n",
    "\n",
    "We can estimate the incremental click-through rate as the ratio of the two previous estimates: the difference between the average clicks in the treatment minus control group, over the difference between the average views in the treatment minus control group.\n",
    "\n",
    "$$\n",
    "\\hat{\\text{ctr}} = \\frac{\\mathbb E_n [\\Delta C]}{\\mathbb E_n [\\Delta V]}\n",
    "$$\n",
    "\n",
    "Note a subtle but crucial difference with respect to the previous formula: we have replaced the [expected values](https://en.wikipedia.org/wiki/Expected_value) $\\mathbb E$ with the empirical expectation operators $\\mathbb E_n$, also known as the [sample average](https://en.wikipedia.org/wiki/Arithmetic_mean). The difference in notation is minimal, but the conceptual difference is huge. The first, $\\mathbb E$, is a **theoretical** concept, while the second $\\mathbb E_n$, while the second one is **empirical**: it is a number that depends on the actual data. I personally like the notation since it highlights the close link between the two concepts (the second is the empirical counterpart of the first), while also making it clear that the second crucially depends on the sample size $n$."
   ]
  },
  {
   "cell_type": "code",
   "execution_count": 6,
   "id": "2083a597",
   "metadata": {
    "ExecuteTime": {
     "end_time": "2022-12-23T14:21:42.114348Z",
     "start_time": "2022-12-23T14:21:42.111741Z"
    }
   },
   "outputs": [],
   "source": [
    "def estimate_ctr(df):\n",
    "    clicks = df.loc[df.new_ui==1, \"clicks\"].mean() - df.loc[df.new_ui==0, \"clicks\"].mean()\n",
    "    views = df.loc[df.new_ui==1, \"views\"].mean() - df.loc[df.new_ui==0, \"views\"].mean()\n",
    "    return clicks / views"
   ]
  },
  {
   "cell_type": "code",
   "execution_count": 7,
   "id": "d52bbbbb",
   "metadata": {
    "ExecuteTime": {
     "end_time": "2022-12-23T14:21:42.119181Z",
     "start_time": "2022-12-23T14:21:42.115682Z"
    }
   },
   "outputs": [
    {
     "data": {
      "text/plain": [
       "0.26966010738038276"
      ]
     },
     "execution_count": 7,
     "metadata": {},
     "output_type": "execute_result"
    }
   ],
   "source": [
    "estimate_ctr(df)"
   ]
  },
  {
   "cell_type": "markdown",
   "id": "474f74f1",
   "metadata": {},
   "source": [
    "The estimate is $0.2697$: for each additional page view, there is a 27% that the user clicks on the page. How much should we trust this number? Is it significantly different form zero, or it is just driven by noise?\n",
    "\n",
    "To answer this question, we would like to compute a [**confidence interval**](https://en.wikipedia.org/wiki/Confidence_interval). How do we compute a a confidence interval for a ratio metric? The first step is to compute the standard deviation of the estimator. \n",
    "\n",
    "One method that is always available is the [**bootstrap**](https://en.wikipedia.org/wiki/Bootstrapping_(statistics)): resample the data with replacement multiple and times and use the distribution of the estimates over samples to compute the standard deviation of the estimator.\n",
    "\n",
    "Let's try it in our case. I compute the standard deviation over $10.000$ bootstrapped samples, using the function `pd.DataFrame().sample()` to sample with replacement."
   ]
  },
  {
   "cell_type": "code",
   "execution_count": 8,
   "id": "c3ffabb1",
   "metadata": {
    "ExecuteTime": {
     "end_time": "2022-12-23T14:21:51.838957Z",
     "start_time": "2022-12-23T14:21:42.120054Z"
    }
   },
   "outputs": [
    {
     "data": {
      "text/plain": [
       "0.016079944440980785"
      ]
     },
     "execution_count": 8,
     "metadata": {},
     "output_type": "execute_result"
    }
   ],
   "source": [
    "np.std([estimate_ctr(df.sample(frac=1, replace=True, random_state=i)) for i in range(10_000)])"
   ]
  },
  {
   "cell_type": "markdown",
   "id": "dcbee1bd",
   "metadata": {},
   "source": [
    "The bootstrap estimate of the standard deviation is equal to $0.0160$. How good is it?\n",
    "\n",
    "Since we fully control the data generating process, we can simulate the \"true\" distribution of the estimator. We do that for $10.000$ simulations and we compute the resulting standard deviation of the estimator."
   ]
  },
  {
   "cell_type": "code",
   "execution_count": 9,
   "id": "4ee69da0",
   "metadata": {
    "ExecuteTime": {
     "end_time": "2022-12-23T14:22:09.790235Z",
     "start_time": "2022-12-23T14:21:51.839579Z"
    }
   },
   "outputs": [
    {
     "data": {
      "text/plain": [
       "0.015475230927575944"
      ]
     },
     "execution_count": 9,
     "metadata": {},
     "output_type": "execute_result"
    }
   ],
   "source": [
    "np.std(dgp.evaluate_f_redrawing_outcomes(estimate_ctr, 10_000))"
   ]
  },
  {
   "cell_type": "markdown",
   "id": "0d90e9c7",
   "metadata": {},
   "source": [
    "The \"true\" variance of the estimator seems to be lower, around $0.0154$. The issue might be related to the fact that the bootstrap is particularly volatile with skewed distributions. One solution is the [**bayesian boostrap**](https://medium.com/towards-data-science/the-bayesian-bootstrap-6ca4a1d45148) that I have covered in a separate post.\n",
    "\n",
    "We are now going to explore another *extremely* powerful alternative, the [**delta method**](https://en.wikipedia.org/wiki/Delta_method). The delta method generally allows us to do inference on functions of random variable, therefore it's applications are broader than ratios. However, I don't think there is an easy way to approach the delta method, so the next section is going to be algebra-intense. If you want, you can skip it and go straight to the last section."
   ]
  },
  {
   "cell_type": "markdown",
   "id": "e6694d09",
   "metadata": {},
   "source": [
    "## The Delta Method"
   ]
  },
  {
   "cell_type": "markdown",
   "id": "fb892d41",
   "metadata": {},
   "source": [
    "What is the **Delta Method**? In short, it is an incredibly powerful **asymptotic inference** method for functions of random variables, that exploits Taylor expansions. In short, the Delta Method requires four ingredients\n",
    "\n",
    "- One or more [random variables](https://en.wikipedia.org/wiki/Random_variable)\n",
    "- A function\n",
    "- [The Central Limit Theorem](https://en.wikipedia.org/wiki/Central_limit_theorem)\n",
    "- [Taylor expansions](https://en.wikipedia.org/wiki/Taylor_series)\n",
    "\n",
    "I will assume some basic knowledge of all four concepts. Suppose we had a set of realizations $X_1$, ..., $X_n$ of a random variable that satisfy the requirements for the Central Limit Theorem (CLT): independence, identically distributed with expected value $\\mu$ and finite variance $\\sigma^2$. Under these conditions, the CLT tells us that the distribution of the sample average $\\mathbb E_n[X]$ converges in distribution to a normal distribution, or more precisely\n",
    "\n",
    "$$\n",
    "\\sqrt{n} \\ \\frac{ \\mathbb E_n[X] - \\mu}{\\sigma} \\ \\overset{D}{\\to} \\ N(0, 1)\n",
    "$$\n",
    "\n",
    "What does the equation mean? It reads \"the normalized sample average, scaled by a factor $\\sqrt{n}$, converges in distribution to a standard normal distribution, i.e. it is approximately Gaussian for a sufficiently large sample.\n",
    "\n",
    "Now, suppose we were interested in a **function** of the sample average $f\\big(\\mathbb E_n[X]\\big)$ instead of the sample average $\\mathbb E_n[X]$. Note that this is different from the average of the function $\\mathbb E_n\\big[f(X)\\big]$. The Delta Method tells us what the function of the sample average $f(\\bar X)$ converges in distribution to. \n",
    "\n",
    "$$\n",
    "\\sqrt{n} \\ \\frac{ f\\big(\\mathbb E_n[X]\\big) - f(\\mu)}{\\sigma} \\ \\overset{D}{\\to} \\ N \\big(0, f'(\\mu)^2 \\big)\n",
    "$$\n",
    "\n",
    ", where $f'(\\mu)^2$ is the derivative of the function $f$, evaluated at $\\mu$.\n",
    "\n",
    "The result directly follows from the Taylor approximation of $ff\\big(\\mathbb E_n[X]\\big)$\n",
    "\n",
    "$$\n",
    "f\\big(\\mathbb E_n[X]\\big) = f(\\mu) + f'(\\mu) (\\mathbb E_n[X] - \\mu) + O \\big\\lbrace (\\mathbb E_n[X] - \\mu)^2 \\big\\rbrace\n",
    "$$\n",
    "\n",
    "Importantly, asymptotically, the last term disappears and the linear approximation holds exactly!\n",
    "\n",
    "How is this connected to the ratio estimator? We need a bit more math and to switch from a single dimension to two dimensions in order to understand that. In our case, we have a bivariate function that input two random variables, $\\Delta C$ and $\\Delta V$ and returns their ratio. In the case of a multivariate function $f$, the asymptotic variance of the estimator is given by\n",
    "\n",
    "$$\n",
    "\\text{AVar} \\big( \\hat{\\text{ctr}} \\big) = \\nabla \\hat{\\text{ctr}}' \\Sigma_n \\nabla \\hat{\\text{ctr}}\n",
    "$$\n",
    "\n",
    "where, $\\nabla$ indicates the [gradient](https://en.wikipedia.org/wiki/Gradient) of the function, i.e. the vector of directional derivatives, and $\\Sigma_n$ is the empirical variance-covariance matrix of $X$. In our case, they correspond to\n",
    "\n",
    "$$\n",
    "\\nabla \\hat{\\text{ctr}}\n",
    "= \n",
    "\\begin{bmatrix} \n",
    "\\frac{1}{\\mathbb E_n [\\Delta V]} \\\\ - \\frac{\\mathbb E_n [\\Delta C]}{\\mathbb E_n [\\Delta V]^2}\n",
    "\\end{bmatrix}\n",
    "$$\n",
    "\n",
    "and\n",
    "\n",
    "$$\n",
    "\\Sigma_n = \n",
    "\\begin{bmatrix}\n",
    "\\text{Var}_n (\\Delta C) & \\text{Cov}_n (\\Delta C, \\Delta V) \\\\\n",
    "\\text{Cov}_n (\\Delta C, \\Delta V) & \\text{Var}_n (\\Delta V) \\\\\n",
    "\\end{bmatrix}\n",
    "$$\n",
    "\n",
    ", where the subscripts $n$ indicate the empirical counterparts, as for the expected value. With a little matrix algebra, we get the formula of the asymptotic variance of the ratio estimator.\n",
    "\n",
    "$$\n",
    "\\begin{align*}\n",
    "\\text{AVar} \\big( \\hat{\\text{ctr}} \\big) &= \\frac{1}{\\mathbb E_n[\\Delta V]^2} \\text{Var}_n(\\Delta C) - 2 \\frac{\\mathbb E_n[\\Delta C]}{\\mathbb E_n[\\Delta V]^3} \\text{Cov}_n(\\Delta V, \\Delta C) + \\frac{\\mathbb E_n[\\Delta C]^2}{\\mathbb E_n[\\Delta V]^4} \\text{Var}_n(\\Delta V)\n",
    "\\end{align*}\n",
    "$$\n",
    "\n",
    "Importantly, we can rewrite the variance noting that the estimator is given by $\\hat{\\text{ctr}} = \\frac{\\mathbb E_n[\\Delta C]}{\\mathbb E_n[\\Delta V]}$\n",
    "\n",
    "$$\n",
    "\\begin{align*}\n",
    "\\text{AVar} \\big( \\hat{\\text{ctr}} \\big) = \\frac{1}{\\mathbb E_n[\\Delta V]^2} \\text{Var}_n \\Big( \\Delta C - \\hat{\\text{ctr}} \\Delta V \\Big) = \\frac{1}{\\mathbb E_n[\\Delta V]^2} \\text{Var}_n \\Big( \\Delta \\big( C - \\hat{\\text{ctr}} V \\big) \\Big)\n",
    "\\end{align*}\n",
    "$$\n",
    "\n",
    "The last expression is very interesting because it suggests that we can estimate the standard deviation of our estimator by **linear regression**."
   ]
  },
  {
   "cell_type": "markdown",
   "id": "09b32f52",
   "metadata": {},
   "source": [
    "## Inference with Linear Regression"
   ]
  },
  {
   "cell_type": "markdown",
   "id": "797cb6c0",
   "metadata": {},
   "source": [
    "Did you skip the previous section? No problem!\n",
    "\n",
    "After some algebra, we concluded that we can estimate the variance of our estimator as\n",
    "\n",
    "$$\n",
    "\\begin{align*}\n",
    "\\text{AVar} \\big( \\hat{\\text{ctr}} \\big) = \\frac{1}{\\mathbb E_n[\\Delta V]^2} \\text{Var}_n \\big( \\Delta \\tilde C \\big)\n",
    "\\end{align*}\n",
    "$$\n",
    "\n",
    ", where $\\tilde C = C - \\hat{\\text{ctr}} V$. This expression might seem obscure at first, but it is incredibly useful. In fact, it gives us (1) an intuitive **interpretation** of the variance of the estimator and (2) a **practical** way to estimate it.\n",
    "\n",
    "Interpretation first! How should we read the above expression? We can estimate the variance of the empirical estimator as the variance of a difference-in-means estimator, for a new variable $\\tilde C$ that we can easily compute from the data. We just need to scale it down by $\\mathbb E_n[\\Delta V]^2$. Therefore, the variance is decreasing in the causal effect of the treatment on the views $V$. \n",
    "\n",
    "Now, let's use the equation above to estimate the variance of the click-through rate estimator, in **three steps**.\n",
    "\n",
    "1. The term $\\mathbb E_n[\\Delta V]$ is the difference in average views between the treatment and control group."
   ]
  },
  {
   "cell_type": "code",
   "execution_count": 10,
   "id": "61024a97",
   "metadata": {
    "ExecuteTime": {
     "end_time": "2022-12-23T14:22:09.794450Z",
     "start_time": "2022-12-23T14:22:09.792133Z"
    }
   },
   "outputs": [],
   "source": [
    "e_delta_v = df.views[df.new_ui==1].mean() - df.views[df.new_ui==0].mean()"
   ]
  },
  {
   "cell_type": "markdown",
   "id": "c1d08bc3",
   "metadata": {},
   "source": [
    "2. The variable $\\tilde C$ is the number of clicks $C$ minus the number of views $V$, scaled by the estimated click-through rate $\\hat{\\text{ctr}}$."
   ]
  },
  {
   "cell_type": "code",
   "execution_count": 11,
   "id": "77cea320",
   "metadata": {
    "ExecuteTime": {
     "end_time": "2022-12-23T14:22:09.797673Z",
     "start_time": "2022-12-23T14:22:09.794982Z"
    }
   },
   "outputs": [],
   "source": [
    "df['clicks_tilde'] = df['clicks'] - estimate_ctr(df) * df['views'] "
   ]
  },
  {
   "cell_type": "markdown",
   "id": "0f886e95",
   "metadata": {},
   "source": [
    "3. The variance of the treatment-control difference $\\Delta \\tilde C$ can be directly computed by linear regression, as in randomized controlled trials for difference-in-means estimators (for more details see Agrist and Pischke, 2008)."
   ]
  },
  {
   "cell_type": "code",
   "execution_count": 12,
   "id": "f3cb758d",
   "metadata": {
    "ExecuteTime": {
     "end_time": "2022-12-23T14:22:09.803699Z",
     "start_time": "2022-12-23T14:22:09.798249Z"
    }
   },
   "outputs": [],
   "source": [
    "sd_err = smf.ols('clicks_tilde ~ new_ui', df).fit().bse[1]"
   ]
  },
  {
   "cell_type": "markdown",
   "id": "1f971e36",
   "metadata": {},
   "source": [
    "We now have all the ingredients to compute the standard deviation of the estimator.."
   ]
  },
  {
   "cell_type": "code",
   "execution_count": 13,
   "id": "9a601df1",
   "metadata": {
    "ExecuteTime": {
     "end_time": "2022-12-23T14:22:09.807838Z",
     "start_time": "2022-12-23T14:22:09.805079Z"
    }
   },
   "outputs": [
    {
     "data": {
      "text/plain": [
       "0.01566505344911916"
      ]
     },
     "execution_count": 13,
     "metadata": {},
     "output_type": "execute_result"
    }
   ],
   "source": [
    "sd_err / np.abs(e_delta_v)"
   ]
  },
  {
   "cell_type": "markdown",
   "id": "6aa2e274",
   "metadata": {},
   "source": [
    "We have estimated the variance of the ratio estimator with a simple linear regression! The estimated value $0.0156$ is very close to the \"true\" value of $0.0152$ and significantly faster than the bootstrap (around 1000 times faster on my machine)."
   ]
  },
  {
   "cell_type": "markdown",
   "id": "39f056c2",
   "metadata": {},
   "source": [
    "## Conclusion"
   ]
  },
  {
   "cell_type": "markdown",
   "id": "8d82d7c4",
   "metadata": {},
   "source": [
    "In this article, we have explore a very common causal inference problem in the inference: assessing the effects of a treatment on an outcome metric. The additional complications come from the fact that we are studying not one, but two causal effects, intertwined. The effects are both first- and second-order. First, the estimator is biased. Second, computing the variance of the estimator is not trivial.\n",
    "\n",
    "We have explored an incredibly powerful method to do inference for complex random variables: the **delta method**. In the particular case of ratio metrics, the delta method delivers a very insightful and practical functional form for the asymptotic variance of the estimator that can be estimated with a simple linear regression."
   ]
  },
  {
   "cell_type": "markdown",
   "id": "f0c8f0f6",
   "metadata": {},
   "source": [
    "### References"
   ]
  },
  {
   "cell_type": "markdown",
   "id": "458631c8",
   "metadata": {},
   "source": [
    "[1] A. Deng, U. Knoblich, J. Lu, [Applying the Delta Method in Metric Analytics: A Practical Guide with Novel Ideas](https://arxiv.org/pdf/1803.06336.pdf) (2018).  \n",
    "\n",
    "[2] R. Budylin, A. Drutsa, I. Katsev, V. Tsoy, [Consistent Transformation of Ratio Metrics for Efficient Online Controlled Experiments](https://dl.acm.org/doi/abs/10.1145/3159652.3159699) (2018). *ACM*.\n",
    "\n",
    "[3] J. Angrist, J. Pischke, [Mostly harmless econometrics: An empiricist's companion](https://www.mostlyharmlesseconometrics.com/) (2009). *Princeton university press*."
   ]
  },
  {
   "cell_type": "markdown",
   "id": "998c1c68",
   "metadata": {},
   "source": [
    "### Related Articles"
   ]
  },
  {
   "cell_type": "markdown",
   "id": "cc3f2422",
   "metadata": {},
   "source": [
    "- [The Bayesian Bootstrap](https://medium.com/towards-data-science/the-bayesian-bootstrap-6ca4a1d45148)"
   ]
  },
  {
   "cell_type": "markdown",
   "id": "2b1f07d1",
   "metadata": {},
   "source": [
    "### Code"
   ]
  },
  {
   "cell_type": "markdown",
   "id": "29dc2b92",
   "metadata": {},
   "source": [
    "You can find the original Jupyter Notebook here:\n",
    "\n",
    "https://github.com/matteocourthoud/Blog-Posts/blob/main/notebooks/delta.ipynb"
   ]
  }
 ],
 "metadata": {
  "@webio": {
   "lastCommId": null,
   "lastKernelId": null
  },
  "kernelspec": {
   "display_name": "Python (conda)",
   "language": "python",
   "name": "base"
  },
  "language_info": {
   "codemirror_mode": {
    "name": "ipython",
    "version": 3
   },
   "file_extension": ".py",
   "mimetype": "text/x-python",
   "name": "python",
   "nbconvert_exporter": "python",
   "pygments_lexer": "ipython3",
   "version": "3.9.7"
  },
  "toc": {
   "base_numbering": 1,
   "nav_menu": {},
   "number_sections": false,
   "sideBar": true,
   "skip_h1_title": true,
   "title_cell": "Table of Contents",
   "title_sidebar": "Contents",
   "toc_cell": false,
   "toc_position": {
    "height": "calc(100% - 180px)",
    "left": "10px",
    "top": "150px",
    "width": "255px"
   },
   "toc_section_display": true,
   "toc_window_display": true
  },
  "varInspector": {
   "cols": {
    "lenName": 16,
    "lenType": 16,
    "lenVar": 40
   },
   "kernels_config": {
    "python": {
     "delete_cmd_postfix": "",
     "delete_cmd_prefix": "del ",
     "library": "var_list.py",
     "varRefreshCmd": "print(var_dic_list())"
    },
    "r": {
     "delete_cmd_postfix": ") ",
     "delete_cmd_prefix": "rm(",
     "library": "var_list.r",
     "varRefreshCmd": "cat(var_dic_list()) "
    }
   },
   "types_to_exclude": [
    "module",
    "function",
    "builtin_function_or_method",
    "instance",
    "_Feature"
   ],
   "window_display": false
  }
 },
 "nbformat": 4,
 "nbformat_minor": 5
}
