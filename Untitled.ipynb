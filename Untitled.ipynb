{
  "nbformat": 4,
  "nbformat_minor": 0,
  "metadata": {
    "colab": {
      "provenance": [],
      "authorship_tag": "ABX9TyMj950opPArxbkd5B5ru5Ex",
      "include_colab_link": true
    },
    "kernelspec": {
      "name": "python3",
      "display_name": "Python 3"
    },
    "language_info": {
      "name": "python"
    }
  },
  "cells": [
    {
      "cell_type": "markdown",
      "metadata": {
        "id": "view-in-github",
        "colab_type": "text"
      },
      "source": [
        "<a href=\"https://colab.research.google.com/github/Vitalyastiy/Blog-Posts/blob/main/Untitled.ipynb\" target=\"_parent\"><img src=\"https://colab.research.google.com/assets/colab-badge.svg\" alt=\"Open In Colab\"/></a>"
      ]
    },
    {
      "cell_type": "code",
      "source": [
        "# Генерация данных для двух выборок с ненормальным распределением\n",
        "sample1 = np.random.exponential(scale=1, size=1000)\n",
        "sample2 = np.random.exponential(scale=2, size=1000)\n",
        "\n",
        "# Разбиение каждой выборки на 100 бакетов и вычисление среднего значения для каждого бакета\n",
        "bucket_size = 100\n",
        "buckets1 = np.mean(sample1.reshape(-1, bucket_size), axis=1)\n",
        "buckets2 = np.mean(sample2.reshape(-1, bucket_size), axis=1)\n",
        "\n",
        "# Применение двухвыборочного t-теста\n",
        "t_statistic, p_value = ttest_ind(buckets1, buckets2)\n",
        "\n",
        "# Вывод результатов\n",
        "print(f\"t-статистика: {t_statistic}\")\n",
        "print(f\"p-значение: {p_value}\")\n",
        "\n",
        "# Принятие решения\n",
        "alpha = 0.05\n",
        "if p_value < alpha:\n",
        "    print(\"Отвергаем нулевую гипотезу. Существует существенная разница между выборками.\")\n",
        "else:\n",
        "    print(\"Не отвергаем нулевую гипотезу. Разница между выборками не является существенной.\")"
      ],
      "metadata": {
        "colab": {
          "base_uri": "https://localhost:8080/"
        },
        "id": "B6CjTURB45me",
        "outputId": "a86d0d93-a166-4426-ec9f-87c75e81f511"
      },
      "execution_count": 25,
      "outputs": [
        {
          "output_type": "stream",
          "name": "stdout",
          "text": [
            "t-статистика: -17.680153241003563\n",
            "p-значение: 7.999463589830598e-13\n",
            "Отвергаем нулевую гипотезу. Существует существенная разница между выборками.\n"
          ]
        }
      ]
    },
    {
      "cell_type": "code",
      "source": [
        "\n",
        "import numpy as np\n",
        "import matplotlib.pyplot as plt\n",
        "\n",
        "# Параметры ненормальных распределений\n",
        "lambda1 = 0.8\n",
        "lambda2 = 1\n",
        "\n",
        "# Генерация ненормальных выборок\n",
        "sample1 = np.random.exponential(scale=1/lambda1, size=1000)\n",
        "sample2 = np.random.exponential(scale=1/lambda2, size=1000)\n",
        "\n",
        "# Размер выборок для средних\n",
        "sample_size = 100\n",
        "num_samples = 1000\n",
        "\n",
        "# Массивы для хранения средних значений\n",
        "means1 = []\n",
        "means2 = []\n",
        "\n",
        "# Многократное извлечение средних значений\n",
        "for _ in range(num_samples):\n",
        "    sample_mean1 = np.mean(np.random.choice(sample1, size=sample_size))\n",
        "    sample_mean2 = np.mean(np.random.choice(sample2, size=sample_size))\n",
        "    means1.append(sample_mean1)\n",
        "    means2.append(sample_mean2)\n",
        "\n",
        "# Визуализация выборок средних\n",
        "plt.hist(means1, bins=30, alpha=0.5, label='Sample 1')\n",
        "plt.hist(means2, bins=30, alpha=0.5, label='Sample 2')\n",
        "plt.xlabel('Mean')\n",
        "plt.ylabel('Frequency')\n",
        "plt.legend()\n",
        "plt.show()\n",
        "\n"
      ],
      "metadata": {
        "colab": {
          "base_uri": "https://localhost:8080/",
          "height": 449
        },
        "id": "Zg0I9-zFozhQ",
        "outputId": "4fa82018-8d79-446a-d64b-0f4c7db1c0bd"
      },
      "execution_count": 10,
      "outputs": [
        {
          "output_type": "display_data",
          "data": {
            "text/plain": [
              "<Figure size 640x480 with 1 Axes>"
            ],
            "image/png": "[encoded data removed]"
          },
          "metadata": {}
        }
      ]
    },
    {
      "cell_type": "markdown",
      "source": [
        " этом примере мы смоделировали две выборки `sample1` и `sample2` с ненормальным распределением, используя экспоненциальное распределение с разными параметрами `lambda1` и `lambda2`. Затем мы многократно извлекаем выборки размером `sample_size` из каждой из ненормальных выборок и вычисляем среднее значение для каждой выборки. Средние значения сохраняются в массивах `means1` и `means2`. Далее мы визуализируем распределение выборок средних с помощью гистограмм.\n",
        "\n",
        "Обратите внимание, что в этом примере мы использовали экспоненциальное распределение для демонстрации центральной предельной теоремы. В реальных ситуациях вам нужно использовать фактические данные из вашей выборки и применять центральную предельную теорему только в тех случаях, когда выполняются необходимые условия."
      ],
      "metadata": {
        "id": "gZCGycSpqOWn"
      }
    },
    {
      "cell_type": "code",
      "source": [
        "from scipy.stats import ttest_ind\n",
        "\n",
        "# Расчет t-статистики и p-значения\n",
        "t_statistic, p_value = ttest_ind(means1, means2)\n",
        "\n",
        "# Вывод результатов\n",
        "print(f\"t-статистика: {t_statistic}\")\n",
        "print(f\"p-значение: {p_value}\")\n",
        "\n",
        "# Принятие решения\n",
        "alpha = 0.05\n",
        "if p_value < alpha:\n",
        "    print(\"Отвергаем нулевую гипотезу. Существует существенная разница между выборками.\")\n",
        "else:\n",
        "    print(\"Не отвергаем нулевую гипотезу. Разница между выборками не является существенной.\")"
      ],
      "metadata": {
        "colab": {
          "base_uri": "https://localhost:8080/"
        },
        "id": "0_WlTQe0pbGY",
        "outputId": "7401458a-7908-40bc-b4db-710466cff8a2"
      },
      "execution_count": 23,
      "outputs": [
        {
          "output_type": "stream",
          "name": "stdout",
          "text": [
            "t-статистика: 37.80736296757107\n",
            "p-значение: 2.026142587596134e-236\n",
            "Отвергаем нулевую гипотезу. Существует существенная разница между выборками.\n"
          ]
        }
      ]
    },
    {
      "cell_type": "markdown",
      "source": [
        "from scipy.stats import ttest_ind\n",
        "\n",
        "# Расчет t-статистики и p-значения\n",
        "t_statistic, p_value = ttest_ind(means1, means2)\n",
        "\n",
        "# Вывод результатов\n",
        "print(f\"t-статистика: {t_statistic}\")\n",
        "print(f\"p-значение: {p_value}\")\n",
        "\n",
        "# Принятие решения\n",
        "alpha = 0.05\n",
        "if p_value < alpha:\n",
        "    print(\"Отвергаем нулевую гипотезу. Существует существенная разница между выборками.\")\n",
        "else:\n",
        "    print(\"Не отвергаем нулевую гипотезу. Разница между выборками не является существенной.\")"
      ],
      "metadata": {
        "id": "eKm7m9clqTpK"
      }
    },
    {
      "cell_type": "code",
      "source": [],
      "metadata": {
        "id": "igLd1NHXp4gQ"
      },
      "execution_count": null,
      "outputs": []
    },
    {
      "cell_type": "code",
      "source": [],
      "metadata": {
        "id": "5zxwQ8i_p4id"
      },
      "execution_count": null,
      "outputs": []
    },
    {
      "cell_type": "code",
      "source": [
        "import numpy as np\n",
        "from scipy.stats import ttest_ind\n",
        "\n",
        "# Генерация генеральной совокупности с ненормальным распределением\n",
        "population = np.random.exponential(scale=1, size=1000)\n",
        "\n",
        "# Количество выборок и размер каждой выборки\n",
        "num_samples = 100\n",
        "sample_size = 50\n",
        "\n",
        "# Массив для хранения результатов t-теста\n",
        "p_values = []\n",
        "\n",
        "# Многократное извлечение выборок и проведение t-теста\n",
        "for i in range(num_samples):\n",
        "    sample = np.random.choice(population, size=sample_size)\n",
        "    t_statistic, p_value = ttest_ind(sample, population)\n",
        "    p_values.append(p_value)\n",
        "\n",
        "# Проверка гипотезы о равенстве средних значений\n",
        "alpha = 0.05\n",
        "reject_count = sum(p < alpha for p in p_values)\n",
        "print(f\"Number of rejections: {reject_count} out of {num_samples}\")"
      ],
      "metadata": {
        "id": "WMcpaj2np4k6"
      },
      "execution_count": null,
      "outputs": []
    },
    {
      "cell_type": "markdown",
      "source": [
        "В этом примере мы сгенерировали генеральную совокупность `population` с ненормальным распределением, используя экспоненциальное распределение. Затем мы многократно извлекаем выборки размером `sample_size` из генеральной совокупности и проводим t-тест между каждой выборкой и генеральной совокупностью с помощью функции `ttest_ind`. Результаты t-теста (p-значения) сохраняются в массиве `p_values`. Затем мы проверяем гипотезу о равенстве средних значений, сравнивая каждое p-значение с уровнем значимости `alpha`. В конце мы выводим количество отвержений нулевой гипотезы из общего количества выборок.\n",
        "\n",
        "Обратите внимание, что в этом примере мы используем некорректное предположение о том, что многократное извлечение выборок из генеральной совокупности приведет к нормальному распределению. В реальных ситуациях рекомендуется использовать другие методы для обеспечения нормальности данных, такие как преобразование данных или использование непараметрических тестов."
      ],
      "metadata": {
        "id": "Cny-IteBp9je"
      }
    }
  ]
}